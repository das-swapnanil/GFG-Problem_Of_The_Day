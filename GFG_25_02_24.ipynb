{
  "nbformat": 4,
  "nbformat_minor": 0,
  "metadata": {
    "colab": {
      "provenance": []
    },
    "kernelspec": {
      "name": "python3",
      "display_name": "Python 3"
    },
    "language_info": {
      "name": "python"
    }
  },
  "cells": [
    {
      "cell_type": "code",
      "execution_count": 2,
      "metadata": {
        "colab": {
          "base_uri": "https://localhost:8080/"
        },
        "id": "5I4CdMQHTtrp",
        "outputId": "7c2ba6cf-3d9b-4453-854f-46ba86c9e545"
      },
      "outputs": [
        {
          "output_type": "stream",
          "name": "stdout",
          "text": [
            "Enter the value of n: 20\n",
            "Number of distinct combinations to reach score 20 is: 4\n"
          ]
        }
      ],
      "source": [
        "#Question: Consider a game where a player can score 3 or 5 or 10 points in a move.\n",
        "#Given a total score n, find number of distinct combinations to reach the given score.\n",
        "\n",
        "#Defining the function\n",
        "def count_combinations(n):\n",
        "    # Create a list to store the number of combinations for each score\n",
        "    dp = [0] * (n + 1)\n",
        "\n",
        "    # Base case: there is one way to reach score 0 (by not scoring)\n",
        "    dp[0] = 1\n",
        "\n",
        "    # Iterate through all possible scores\n",
        "    for score in [3, 5, 10]:\n",
        "        # Update dp array for each score\n",
        "        for i in range(score, n + 1):\n",
        "            dp[i] += dp[i - score]\n",
        "\n",
        "    return dp[n]\n",
        "\n",
        "# Usage:\n",
        "n = int(input(\"Enter the value of n: \"))\n",
        "print(\"Number of distinct combinations to reach score\", n, \"is:\", count_combinations(n))"
      ]
    },
    {
      "cell_type": "code",
      "source": [],
      "metadata": {
        "id": "4Y80VzBpT7OM"
      },
      "execution_count": null,
      "outputs": []
    }
  ]
}