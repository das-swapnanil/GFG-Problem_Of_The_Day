{
  "nbformat": 4,
  "nbformat_minor": 0,
  "metadata": {
    "colab": {
      "provenance": []
    },
    "kernelspec": {
      "name": "python3",
      "display_name": "Python 3"
    },
    "language_info": {
      "name": "python"
    }
  },
  "cells": [
    {
      "cell_type": "code",
      "execution_count": 1,
      "metadata": {
        "colab": {
          "base_uri": "https://localhost:8080/"
        },
        "id": "p4AkLoizc9jZ",
        "outputId": "1f48df9b-bc53-4122-89d2-d48cfb7b71be"
      },
      "outputs": [
        {
          "output_type": "stream",
          "name": "stdout",
          "text": [
            "Enter n: 12\n",
            "Maximum sum: 13\n"
          ]
        }
      ],
      "source": [
        "#Question : A number n can be broken into three parts n/2, n/3, and n/4 (consider only the integer part).\n",
        "#Each number obtained in this process can be divided further recursively.\n",
        "#Find the maximum sum that can be obtained by summing up the divided parts together.\n",
        "#Note: It is possible that we don't divide the number at all.\n",
        "\n",
        "def max_sum_divide(n, memo = {}):\n",
        "    if n <= 1:\n",
        "        return n\n",
        "\n",
        "    if n in memo:\n",
        "        return memo[n]\n",
        "\n",
        "    max_sum = max(n, max_sum_divide(n // 2, memo) + max_sum_divide(n // 3, memo) + max_sum_divide(n // 4, memo))\n",
        "    memo[n] = max_sum\n",
        "    return max_sum\n",
        "\n",
        "#Usage:\n",
        "n = int(input(\"Enter n: \"))\n",
        "print(\"Maximum sum:\", max_sum_divide(n))"
      ]
    },
    {
      "cell_type": "code",
      "source": [],
      "metadata": {
        "id": "O6LbxrNBdRZf"
      },
      "execution_count": null,
      "outputs": []
    }
  ]
}