{
  "nbformat": 4,
  "nbformat_minor": 0,
  "metadata": {
    "colab": {
      "provenance": []
    },
    "kernelspec": {
      "name": "python3",
      "display_name": "Python 3"
    },
    "language_info": {
      "name": "python"
    }
  },
  "cells": [
    {
      "cell_type": "code",
      "execution_count": 1,
      "metadata": {
        "colab": {
          "base_uri": "https://localhost:8080/"
        },
        "id": "CeDa-GGYSbIk",
        "outputId": "11aaa0eb-50fb-4213-b6e9-68df368a661a"
      },
      "outputs": [
        {
          "output_type": "stream",
          "name": "stdout",
          "text": [
            "The first element that occurs at least 2 times is: -1\n"
          ]
        }
      ],
      "source": [
        "def first_occurrence(arr, k):\n",
        "    freq_map = {}\n",
        "    first_occurrence_index = {}\n",
        "    for i, num in enumerate(arr):\n",
        "        if num in freq_map:\n",
        "            freq_map[num] += 1\n",
        "        else:\n",
        "            freq_map[num] = 1\n",
        "            first_occurrence_index[num] = i\n",
        "\n",
        "        if freq_map[num] == k:\n",
        "            return arr[first_occurrence_index[num]]\n",
        "\n",
        "    return -1  # If no element occurs at least k times\n",
        "\n",
        "\n",
        "# Example usage:\n",
        "arr = [1, 2]\n",
        "k = 2\n",
        "result = first_occurrence(arr, k)\n",
        "if result is not None:\n",
        "    print(f\"The first element that occurs at least {k} times is: {result}\")\n",
        "else:\n",
        "    print(f\"No element occurs at least {k} times in the array.\")"
      ]
    },
    {
      "cell_type": "code",
      "source": [],
      "metadata": {
        "id": "XYPKWryDSfnh"
      },
      "execution_count": 1,
      "outputs": []
    }
  ]
}