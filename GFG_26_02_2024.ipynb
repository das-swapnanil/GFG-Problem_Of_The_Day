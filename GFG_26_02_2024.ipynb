{
  "nbformat": 4,
  "nbformat_minor": 0,
  "metadata": {
    "colab": {
      "provenance": []
    },
    "kernelspec": {
      "name": "python3",
      "display_name": "Python 3"
    },
    "language_info": {
      "name": "python"
    }
  },
  "cells": [
    {
      "cell_type": "code",
      "execution_count": 1,
      "metadata": {
        "colab": {
          "base_uri": "https://localhost:8080/"
        },
        "id": "2rbbZo-Id55D",
        "outputId": "35d625ed-7177-45d8-e259-c9e575141292"
      },
      "outputs": [
        {
          "output_type": "stream",
          "name": "stdout",
          "text": [
            "Enter the string: tk\n",
            "All possible subsequences of tk in lexicographically-sorted order:\n",
            "['k', 't', 'tk']\n"
          ]
        }
      ],
      "source": [
        "def generate_subsequences(s):\n",
        "    subsequences = []\n",
        "\n",
        "    # Helper function to recursively generate subsequences\n",
        "    def generate_helper(sub, index):\n",
        "        # Add the current subsequence to the list\n",
        "        subsequences.append(sub)\n",
        "\n",
        "        # Iterate through the characters of the sorted string\n",
        "        for i in range(index, len(s)):\n",
        "            # Add the current character to the subsequence and recurse\n",
        "            generate_helper(sub + s[i], i + 1)\n",
        "\n",
        "    # Start the recursion\n",
        "    generate_helper('', 0)\n",
        "\n",
        "    # Remove the initial empty string\n",
        "    subsequences.pop(0)\n",
        "    #Sort the string to ensure lexicographical order\n",
        "\n",
        "    return sorted(subsequences)\n",
        "\n",
        "# Example usage:\n",
        "s = input(\"Enter the string: \")\n",
        "print(\"All possible subsequences of\", s, \"in lexicographically-sorted order:\")\n",
        "print(generate_subsequences(s))"
      ]
    }
  ]
}