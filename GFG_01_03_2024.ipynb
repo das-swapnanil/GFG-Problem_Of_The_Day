{
  "nbformat": 4,
  "nbformat_minor": 0,
  "metadata": {
    "colab": {
      "provenance": []
    },
    "kernelspec": {
      "name": "python3",
      "display_name": "Python 3"
    },
    "language_info": {
      "name": "python"
    }
  },
  "cells": [
    {
      "cell_type": "code",
      "execution_count": 3,
      "metadata": {
        "colab": {
          "base_uri": "https://localhost:8080/"
        },
        "id": "Vj_NUdfuqQLT",
        "outputId": "1c3d94a6-e79c-47c2-95f3-ccd97624592e"
      },
      "outputs": [
        {
          "output_type": "stream",
          "name": "stdout",
          "text": [
            "2\n"
          ]
        }
      ],
      "source": [
        "def find_peak(arr):\n",
        "    n = len(arr)\n",
        "    left, right = 0, n - 1\n",
        "\n",
        "    while left < right:\n",
        "        mid = left + (right - left) // 2\n",
        "\n",
        "        if arr[mid] > arr[mid + 1]:\n",
        "            right = mid\n",
        "        else:\n",
        "            left = mid + 1\n",
        "\n",
        "    return left\n",
        "\n",
        "# Example usage:\n",
        "arr = [1, 2, 3]\n",
        "print(find_peak(arr))  # Output: 5"
      ]
    },
    {
      "cell_type": "code",
      "source": [],
      "metadata": {
        "id": "QCZ-FaqUqTjf"
      },
      "execution_count": null,
      "outputs": []
    }
  ]
}