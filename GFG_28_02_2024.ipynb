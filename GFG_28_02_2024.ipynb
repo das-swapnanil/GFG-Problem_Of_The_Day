{
  "nbformat": 4,
  "nbformat_minor": 0,
  "metadata": {
    "colab": {
      "provenance": []
    },
    "kernelspec": {
      "name": "python3",
      "display_name": "Python 3"
    },
    "language_info": {
      "name": "python"
    }
  },
  "cells": [
    {
      "cell_type": "code",
      "source": [
        "#Given a string representation of a decimal number s, check whether it is divisible by 8.\n",
        "def DivisibleByEight(s):\n",
        "        s = int(s[-3:])\n",
        "        if (s%8==0):\n",
        "            return 1\n",
        "        else:\n",
        "            return -1\n",
        "s = input(\"Enter the number: \")\n",
        "print(DivisibleByEight(s))"
      ],
      "metadata": {
        "id": "Hap-1kCepv_G",
        "colab": {
          "base_uri": "https://localhost:8080/"
        },
        "outputId": "03a73910-1995-4a1f-d1f1-5a21fd8ac6a0"
      },
      "execution_count": 1,
      "outputs": [
        {
          "output_type": "stream",
          "name": "stdout",
          "text": [
            "Enter the number: 54141111648421214584416464555\n",
            "-1\n"
          ]
        }
      ]
    }
  ]
}