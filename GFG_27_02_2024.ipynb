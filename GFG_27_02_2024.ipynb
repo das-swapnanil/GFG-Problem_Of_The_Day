{
  "nbformat": 4,
  "nbformat_minor": 0,
  "metadata": {
    "colab": {
      "provenance": []
    },
    "kernelspec": {
      "name": "python3",
      "display_name": "Python 3"
    },
    "language_info": {
      "name": "python"
    }
  },
  "cells": [
    {
      "cell_type": "code",
      "execution_count": 1,
      "metadata": {
        "colab": {
          "base_uri": "https://localhost:8080/"
        },
        "id": "9FG7kzUtwoiD",
        "outputId": "73816a31-4895-4c60-f2ca-d0c013d4a792"
      },
      "outputs": [
        {
          "output_type": "stream",
          "name": "stdout",
          "text": [
            "Enter number of elements : 5\n",
            "Enter next array element: 11\n",
            "Enter next array element: 10\n",
            "Enter next array element: 1\n",
            "Enter next array element: 2\n",
            "Enter next array element: 3\n",
            "The original array is:  [11, 10, 1, 2, 3]\n",
            "The reconstructed array is:  [11, 11, 3, 3, 3]\n"
          ]
        }
      ],
      "source": [
        "#Problem : You are given an array arr[] of length n, you have to re-construct the same array arr[] in-place.\n",
        "#The arr[i] after reconstruction will become arr[i] OR arr[i+1], where OR is bitwise or.\n",
        "#If for some i, i+1 does not exists, then do not change arr[i].\n",
        "\n",
        "def reconstruct_array(arr,n):\n",
        "    for i in range(n - 1):\n",
        "        arr[i] = arr[i] | arr[i + 1]\n",
        "    return arr\n",
        "\n",
        "# Example usage:1\n",
        "\n",
        "# creating an empty list\n",
        "arr = []\n",
        "\n",
        "# number of elements as input\n",
        "n = int(input(\"Enter number of elements : \"))\n",
        "\n",
        "# iterating till the range\n",
        "for i in range(0, n):\n",
        "    ele = int(input(\"Enter next array element: \"))\n",
        "    # adding the element\n",
        "    arr.append(ele)\n",
        "print(\"The original array is: \",arr)\n",
        "reconstruct_array(arr,n)\n",
        "print(\"The reconstructed array is: \",arr)"
      ]
    }
  ]
}