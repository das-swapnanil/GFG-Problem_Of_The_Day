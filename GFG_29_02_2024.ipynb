{
  "nbformat": 4,
  "nbformat_minor": 0,
  "metadata": {
    "colab": {
      "provenance": []
    },
    "kernelspec": {
      "name": "python3",
      "display_name": "Python 3"
    },
    "language_info": {
      "name": "python"
    }
  },
  "cells": [
    {
      "cell_type": "code",
      "execution_count": 1,
      "metadata": {
        "colab": {
          "base_uri": "https://localhost:8080/"
        },
        "id": "7cs6cMMQA2vQ",
        "outputId": "1ced5388-9399-4d19-c790-c2a34e234226"
      },
      "outputs": [
        {
          "output_type": "stream",
          "name": "stdout",
          "text": [
            "Sum of bit differences: 8\n"
          ]
        }
      ],
      "source": [
        "#Question: Given an array integers arr[], containing n elements, find the sum of bit differences between all pairs of element in the array.\n",
        "#Bit difference of a pair (x, y) is the count of different bits at the same positions in binary representations of x and y.\n",
        "\n",
        "def sum_bit_differences(arr):\n",
        "    n = len(arr)\n",
        "    total_bit_diff = 0\n",
        "\n",
        "    # Iterate through each bit position\n",
        "    for i in range(32):  # Assuming integers are 32-bit\n",
        "        count_set_bits = 0\n",
        "        # Count the number of elements with set bit at position i\n",
        "        for num in arr:\n",
        "            if (num >> i) & 1:\n",
        "                count_set_bits += 1\n",
        "        # Count the number of elements with unset bit at position i\n",
        "        count_unset_bits = n - count_set_bits\n",
        "        # Add the bit differences for this bit position\n",
        "        total_bit_diff += count_set_bits * count_unset_bits * 2\n",
        "\n",
        "    return total_bit_diff\n",
        "\n",
        "# Example usage:\n",
        "arr = [1, 3, 5]\n",
        "print(\"Sum of bit differences:\", sum_bit_differences(arr))"
      ]
    },
    {
      "cell_type": "code",
      "source": [],
      "metadata": {
        "id": "E4hlDMZMA4MK"
      },
      "execution_count": 1,
      "outputs": []
    }
  ]
}